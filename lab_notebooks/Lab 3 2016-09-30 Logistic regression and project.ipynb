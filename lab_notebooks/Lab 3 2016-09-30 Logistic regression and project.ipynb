{
 "cells": [
  {
   "cell_type": "markdown",
   "metadata": {},
   "source": [
    "# 2016-09-30: Logistic Regression & Project\n",
    "\n",
    "## 1. Logistic Regression \n",
    "In this lab, we will appply logistic regression to the Endometrium vs. Uterus cancer data"
   ]
  },
  {
   "cell_type": "code",
   "execution_count": 1,
   "metadata": {
    "collapsed": false
   },
   "outputs": [
    {
     "name": "stdout",
     "output_type": "stream",
     "text": [
      "Populating the interactive namespace from numpy and matplotlib\n"
     ]
    }
   ],
   "source": [
    "import numpy as np\n",
    "%pylab inline"
   ]
  },
  {
   "cell_type": "code",
   "execution_count": 43,
   "metadata": {
    "collapsed": false
   },
   "outputs": [
    {
     "data": {
      "text/plain": [
       "(182L, 3000L)"
      ]
     },
     "execution_count": 43,
     "metadata": {},
     "output_type": "execute_result"
    }
   ],
   "source": [
    "# Load the data\n",
    "X = np.loadtxt('data/small_Endometrium_Uterus.csv',  delimiter=',', skiprows=1, usecols=range(1, 3001))\n",
    "\n",
    "# Python 2.7 only\n",
    "y = np.loadtxt('data/small_Endometrium_Uterus.csv', delimiter=',', skiprows=1, usecols=[3001], \n",
    "               converters={3001: lambda s: 0 if s=='Endometrium' else 1}, dtype='int')\n",
    "\n",
    "# Python 3 alternative:\n",
    "#y = np.loadtxt('data/small_Endometrium_Uterus.csv', delimiter=',', \n",
    "#               skiprows=1, usecols=[3001], dtype='bytes').astype('str')\n",
    "# Convert 'Endometrium' to 0 and 'Uterus' to 1\n",
    "#y = np.where(y=='Endometrium', 0, 1)"
   ]
  },
  {
   "cell_type": "code",
   "execution_count": 31,
   "metadata": {
    "collapsed": false
   },
   "outputs": [
    {
     "name": "stdout",
     "output_type": "stream",
     "text": [
      "sklearn.cross_validation.StratifiedKFold(labels=[0 0 0 0 0 0 0 1 1 1 1 1 1 1 1 1 1 1 1 0 0 0 0 0 0 1 1 1 1 1 1 1 1 1 1 1 1\n",
      " 1 0 0 0 0 0 0 1 1 1 1 1 1 1 1 1 1 1 1 0 0 0 0 0 0 1 1 1 1 1 1 1 1 1 1 1 1\n",
      " 1 0 0 0 0 0 0 1 1 1 1 1 1 1 1 1 1 1 1 1 0 0 0 0 0 0 1 1 1 1 1 1 1 1 1 1 1\n",
      " 1 0 0 0 0 0 0 1 1 1 1 1 1 1 1 1 1 1 1 0 0 0 0 0 0 1 1 1 1 1 1 1 1 1 1 1 1\n",
      " 0 0 0 0 0 0 1 1 1 1 1 1 1 1 1 1 1 0 0 0 0 0 0 1 1 1 1 1 1 1 1 1 1 1 1], n_folds=10, shuffle=True, random_state=None)\n",
      "Help on StratifiedKFold in module sklearn.cross_validation object:\n",
      "\n",
      "class StratifiedKFold(_BaseKFold)\n",
      " |  Stratified K-Folds cross validation iterator\n",
      " |  \n",
      " |  Provides train/test indices to split data in train test sets.\n",
      " |  \n",
      " |  This cross-validation object is a variation of KFold that\n",
      " |  returns stratified folds. The folds are made by preserving\n",
      " |  the percentage of samples for each class.\n",
      " |  \n",
      " |  Read more in the :ref:`User Guide <cross_validation>`.\n",
      " |  \n",
      " |  Parameters\n",
      " |  ----------\n",
      " |  y : array-like, [n_samples]\n",
      " |      Samples to split in K folds.\n",
      " |  \n",
      " |  n_folds : int, default=3\n",
      " |      Number of folds. Must be at least 2.\n",
      " |  \n",
      " |  shuffle : boolean, optional\n",
      " |      Whether to shuffle each stratification of the data before splitting\n",
      " |      into batches.\n",
      " |  \n",
      " |  random_state : None, int or RandomState\n",
      " |      When shuffle=True, pseudo-random number generator state used for\n",
      " |      shuffling. If None, use default numpy RNG for shuffling.\n",
      " |  \n",
      " |  Examples\n",
      " |  --------\n",
      " |  >>> from sklearn.cross_validation import StratifiedKFold\n",
      " |  >>> X = np.array([[1, 2], [3, 4], [1, 2], [3, 4]])\n",
      " |  >>> y = np.array([0, 0, 1, 1])\n",
      " |  >>> skf = StratifiedKFold(y, n_folds=2)\n",
      " |  >>> len(skf)\n",
      " |  2\n",
      " |  >>> print(skf)  # doctest: +NORMALIZE_WHITESPACE\n",
      " |  sklearn.cross_validation.StratifiedKFold(labels=[0 0 1 1], n_folds=2,\n",
      " |                                           shuffle=False, random_state=None)\n",
      " |  >>> for train_index, test_index in skf:\n",
      " |  ...    print(\"TRAIN:\", train_index, \"TEST:\", test_index)\n",
      " |  ...    X_train, X_test = X[train_index], X[test_index]\n",
      " |  ...    y_train, y_test = y[train_index], y[test_index]\n",
      " |  TRAIN: [1 3] TEST: [0 2]\n",
      " |  TRAIN: [0 2] TEST: [1 3]\n",
      " |  \n",
      " |  Notes\n",
      " |  -----\n",
      " |  All the folds have size trunc(n_samples / n_folds), the last one has the\n",
      " |  complementary.\n",
      " |  \n",
      " |  See also\n",
      " |  --------\n",
      " |  LabelKFold: K-fold iterator variant with non-overlapping labels.\n",
      " |  \n",
      " |  Method resolution order:\n",
      " |      StratifiedKFold\n",
      " |      _BaseKFold\n",
      " |      abc.NewBase\n",
      " |      _PartitionIterator\n",
      " |      abc.NewBase\n",
      " |      __builtin__.object\n",
      " |  \n",
      " |  Methods defined here:\n",
      " |  \n",
      " |  __init__(self, y, n_folds=3, shuffle=False, random_state=None)\n",
      " |  \n",
      " |  __len__(self)\n",
      " |  \n",
      " |  __repr__(self)\n",
      " |  \n",
      " |  ----------------------------------------------------------------------\n",
      " |  Data and other attributes defined here:\n",
      " |  \n",
      " |  __abstractmethods__ = frozenset([])\n",
      " |  \n",
      " |  ----------------------------------------------------------------------\n",
      " |  Methods inherited from _PartitionIterator:\n",
      " |  \n",
      " |  __iter__(self)\n",
      " |  \n",
      " |  ----------------------------------------------------------------------\n",
      " |  Data descriptors inherited from abc.NewBase:\n",
      " |  \n",
      " |  __dict__\n",
      " |      dictionary for instance variables (if defined)\n",
      " |  \n",
      " |  __weakref__\n",
      " |      list of weak references to the object (if defined)\n",
      "\n"
     ]
    }
   ],
   "source": [
    "# Set up a stratified 10-fold cross-validation\n",
    "from sklearn import cross_validation\n",
    "folds = cross_validation.StratifiedKFold(y, 10, shuffle=True)\n",
    "print folds\n",
    "help(folds)"
   ]
  },
  {
   "cell_type": "markdown",
   "metadata": {},
   "source": [
    "### 1.1 Cross-validation\n",
    "**Question:** Create a cross-validation function that takes a design matrix, label array, scikit-learn classifier, and scikit-learn cross_validation object and returns the corresponding list of cross-validated predictions. \n",
    "\n",
    "Make sure that you are returning the predictions in the correct order!\n",
    "\n",
    "Check the documentation of fit(X, y) and predict_proba(X) in sklearn.linear_model.LogisticRegression http://scikit-learn.org/stable/modules/generated/sklearn.linear_model.LogisticRegression.html "
   ]
  },
  {
   "cell_type": "code",
   "execution_count": 91,
   "metadata": {
    "collapsed": true
   },
   "outputs": [],
   "source": [
    "def cross_validate(design_matrix, labels, classifier, cv_folds):\n",
    "    \"\"\" Perform a cross-validation and returns the predictions.\n",
    "    \n",
    "    Parameters:\n",
    "    -----------\n",
    "    design_matrix: (n_samples, n_features) np.array\n",
    "        Design matrix for the experiment.\n",
    "    labels: (n_samples, ) np.array\n",
    "        Vector of labels.\n",
    "    classifier:  sklearn classifier object\n",
    "        Classifier instance; must have the following methods:\n",
    "        - fit(X, y) to train the classifier on the data X, y\n",
    "        - predict_proba(X) to apply the trained classifier to the data X and return probability estimates \n",
    "    cv_folds: sklearn cross-validation object\n",
    "        Cross-validation iterator.\n",
    "        \n",
    "    Return:\n",
    "    -------\n",
    "    pred: (n_samples, ) np.array\n",
    "        Vectors of predictions (same order as labels).\n",
    "    \"\"\"\n",
    "    pred = np.zeros(labels.shape)\n",
    "    for i,(tr,te) in enumerate(cv_folds):\n",
    "        x_train,x_test=design_matrix[tr,:],design_matrix[te,:]\n",
    "        y_train,y_test=labels[tr],labels[te]\n",
    "        classifier.fit(x_train,y_train)\n",
    "        pred[te]=classifier.predict_proba(x_test)[:,1]\n",
    "        #pred=classifier.predict_proba(design_matrix)\n",
    "    return pred"
   ]
  },
  {
   "cell_type": "markdown",
   "metadata": {},
   "source": [
    "Now use this function to compute cross-validated predictions on the data."
   ]
  },
  {
   "cell_type": "code",
   "execution_count": 88,
   "metadata": {
    "collapsed": false
   },
   "outputs": [
    {
     "name": "stdout",
     "output_type": "stream",
     "text": [
      "[  9.95601269e-01   2.91532149e-07   2.45427240e-04   4.66179716e-01\n",
      "   4.50230285e-03   9.99999940e-01   1.38172662e-03   9.99999450e-01\n",
      "   6.99863749e-02   9.99201690e-01   9.99999741e-01   9.99999999e-01\n",
      "   9.99922348e-01   9.99535231e-01   9.99975833e-01   9.99999999e-01\n",
      "   9.99978968e-01   1.83121794e-03   9.99997717e-01   9.99999984e-01\n",
      "   9.99382409e-01   1.14458366e-01   9.87420801e-01   8.96150004e-07\n",
      "   9.99978578e-01   9.99999773e-01   9.99557190e-01   9.77119976e-01\n",
      "   8.61890830e-01   9.37611878e-02   9.99999990e-01   9.99998243e-01\n",
      "   9.99969303e-01   9.99996397e-01   3.07909403e-07   9.99985904e-01\n",
      "   9.98894383e-01   9.56033346e-01   3.28874382e-01   2.49886789e-01\n",
      "   1.08248718e-01   9.99999057e-01   2.44895841e-01   2.51143762e-06\n",
      "   9.99995007e-01   9.99999999e-01   9.99967206e-01   9.94640969e-01\n",
      "   1.00000000e+00   9.99999904e-01   9.99999201e-01   9.99999517e-01\n",
      "   9.99397132e-01   9.85196596e-01   1.93035027e-01   9.95939025e-01\n",
      "   1.00000000e+00   8.81079944e-01   3.16535340e-05   9.94243804e-01\n",
      "   7.70791064e-01   9.99899019e-01   1.49782978e-03   9.99791614e-01\n",
      "   9.99913398e-01   1.89057409e-03   4.07997090e-05   8.18491668e-01\n",
      "   9.99985006e-01   9.99965112e-01   4.68651328e-01   9.99999175e-01\n",
      "   9.99865921e-01   9.99999891e-01   9.99999672e-01   2.68521062e-01\n",
      "   9.90207865e-01   2.31768745e-02   7.23238011e-09   9.83914748e-01\n",
      "   9.99999998e-01   9.99979644e-01   9.99545830e-01   9.41688402e-01\n",
      "   9.99999999e-01   2.27401245e-01   9.99999988e-01   1.44221033e-04\n",
      "   1.00000000e+00   4.94997051e-05   9.99998116e-01   9.99999996e-01\n",
      "   9.99999999e-01   9.99999967e-01   9.97827895e-01   2.22606437e-01\n",
      "   9.78259852e-02   9.99998827e-01   1.94107809e-06   6.69466652e-03\n",
      "   2.74214753e-17   9.99871215e-01   8.85650771e-01   3.15635003e-03\n",
      "   8.45111919e-01   7.69367629e-01   9.97446574e-01   9.99306218e-01\n",
      "   9.99999983e-01   9.99969269e-01   9.97282748e-01   9.99991175e-01\n",
      "   8.62717348e-01   9.52113011e-01   1.53595686e-01   2.95000851e-05\n",
      "   9.99246239e-01   4.12345885e-01   1.49193993e-01   9.99999999e-01\n",
      "   8.89798421e-01   9.99977367e-01   9.99219378e-01   9.99999405e-01\n",
      "   8.95960648e-01   7.58136383e-01   1.70765630e-05   1.17878839e-05\n",
      "   5.26543560e-01   9.99827993e-01   9.86893559e-01   8.59546497e-01\n",
      "   9.95929183e-01   1.05913239e-01   8.31804880e-03   9.89554850e-01\n",
      "   9.99999989e-01   5.30722668e-02   4.56776081e-08   9.90597890e-01\n",
      "   1.72415015e-04   1.00000000e+00   9.27618712e-01   1.09205466e-04\n",
      "   1.22472296e-06   9.89603705e-01   9.94362233e-01   9.99483974e-01\n",
      "   9.92600885e-01   3.32696955e-04   9.99953996e-01   6.25520950e-02\n",
      "   5.96030930e-04   2.17931617e-02   9.99999932e-01   5.49450595e-03\n",
      "   9.99985585e-01   4.53607833e-01   5.20208802e-01   9.99999917e-01\n",
      "   1.00000000e+00   9.99916037e-01   1.00000000e+00   2.30001984e-01\n",
      "   7.35738135e-10   9.99998681e-01   1.51186379e-05   1.08055109e-04\n",
      "   9.99620304e-01   3.28237825e-01   9.99781457e-01   9.99996061e-01\n",
      "   9.95577077e-01   2.13421121e-01   1.63233324e-01   9.96819395e-01\n",
      "   9.99998822e-01   9.99999987e-01   9.71956586e-01   2.88583160e-03\n",
      "   9.99989561e-01   9.97008503e-01   9.99994643e-01]\n"
     ]
    }
   ],
   "source": [
    "from sklearn import linear_model\n",
    "clf = linear_model.LogisticRegression(C=1e6) # high C means no regularization (we'll talk about regularization next week!)\n",
    "ypred_logreg = cross_validate(X, y, clf, folds)\n",
    "pred_y=ypred_logreg\n",
    "print pred_y"
   ]
  },
  {
   "cell_type": "markdown",
   "metadata": {},
   "source": [
    "**Question** Complete the code below to compute the cross-validated accuracy and area under the curve of the logistic regression on our data. Plot the ROC curve"
   ]
  },
  {
   "cell_type": "code",
   "execution_count": 90,
   "metadata": {
    "collapsed": false
   },
   "outputs": [
    {
     "name": "stdout",
     "output_type": "stream",
     "text": [
      "Accuracy: 0.68306010929\n"
     ]
    },
    {
     "data": {
      "image/png": "[encoded data removed]",
      "text/plain": [
       "<matplotlib.figure.Figure at 0x9c26710>"
      ]
     },
     "metadata": {},
     "output_type": "display_data"
    }
   ],
   "source": [
    "from sklearn import metrics\n",
    "\n",
    "fpr_logreg, tpr_logreg, thresholds = metrics.roc_curve(y, pred_y, pos_label=1)\n",
    "print \"Accuracy:\", metrics.accuracy_score(y,pred_y>0.5)\n",
    "auc_logreg = metrics.auc(fpr_logreg, tpr_logreg)\n",
    "\n",
    "plt.plot(#TODO\n",
    ")\n",
    "\n",
    "plt.xlabel('False Positive Rate', fontsize=16)\n",
    "plt.ylabel('True Positive Rate', fontsize=16)\n",
    "plt.title('ROC curve: Logistic regression', fontsize=16)\n",
    "plt.legend(loc=\"lower right\")\n",
    "#plt.savefig('%s/evu_linreg.pdf' % fig_dir, bbox_inches='tight')"
   ]
  },
  {
   "cell_type": "markdown",
   "metadata": {},
   "source": [
    "### 1.2 Feature scaling\n",
    "\n",
    "Standardization of a dataset is a common requirement for many machine learning estimators: they might behave badly if the individual feature do not more or less look like standard normally distributed data (e.g. Gaussian with 0 mean and unit variance). If a feature has a variance that is orders of magnitude larger that others, it might dominate the objective function and make the estimator unable to learn from other features correctly as expected.\n",
    "\n",
    "In practice we often ignore the shape of the distribution and just transform the data to center it by removing the mean value of each feature, then scale it by dividing non-constant features by their standard deviation.\n",
    "\n",
    "Scikit-learn offers tools to deal with this issue. "
   ]
  },
  {
   "cell_type": "code",
   "execution_count": null,
   "metadata": {
    "collapsed": false
   },
   "outputs": [],
   "source": [
    "from sklearn import preprocessing\n",
    "X_scaled = preprocessing.scale(X)"
   ]
  },
  {
   "cell_type": "markdown",
   "metadata": {},
   "source": [
    "Let us now visualize the distribution of one of the features of the data."
   ]
  },
  {
   "cell_type": "code",
   "execution_count": null,
   "metadata": {
    "collapsed": false
   },
   "outputs": [],
   "source": [
    "idx_1 = 0 # first feature\n",
    "fig = plt.figure(figsize=(12, 8)) # (width, height)\n",
    "\n",
    "fig.add_subplot(221) # 2 x 2 grid, 1st subplot\n",
    "h = plt.hist(X[:, idx_1], bins=30, color='blue')\n",
    "plt.title('Feature %d (not scaled)' % idx_1, fontsize=16)\n",
    "\n",
    "fig.add_subplot(222) # 2 x 2 grid, 2nd subplot\n",
    "h = plt.hist(X_scaled[:, idx_1], bins=30, color='orange')\n",
    "plt.title('Feature %d (scaled)' % idx_1, fontsize=16)\n",
    "\n",
    "idx_2 = 1 # second feature\n",
    "\n",
    "fig.add_subplot(223) # 2 x 2 grid, 3rd subplot\n",
    "h = plt.hist(X[:, idx_2], bins=30, color='blue')\n",
    "plt.title('Feature %d (not scaled)' % idx_2, fontsize=16)\n",
    "\n",
    "fig.add_subplot(224) # 2 x 2 grid, 4th subplot\n",
    "h = plt.hist(X_scaled[:, idx_2], bins=30, color='orange')\n",
    "plt.title('Feature %d (scaled)' % idx_2, fontsize=16)\n",
    "\n",
    "plt.tight_layout() # improve spacing between subplots"
   ]
  },
  {
   "cell_type": "markdown",
   "metadata": {},
   "source": [
    "**Question** Compute the cross-validated predictions of the logistic regression on the scaled data."
   ]
  },
  {
   "cell_type": "code",
   "execution_count": null,
   "metadata": {
    "collapsed": true
   },
   "outputs": [],
   "source": []
  },
  {
   "cell_type": "markdown",
   "metadata": {},
   "source": [
    "**Question** Plot the two ROC curves (one for the logistic regression on the original data, one for the logistic regression on the scaled data) on the same plot."
   ]
  },
  {
   "cell_type": "code",
   "execution_count": null,
   "metadata": {
    "collapsed": false
   },
   "outputs": [],
   "source": []
  },
  {
   "cell_type": "markdown",
   "metadata": {},
   "source": [
    "### 1.3 Feature scaling and cross-validation\n",
    "In a cross-validation setting, we ignore the samples from the test fold when training the classifier. This also means that scaling should be done on the training data only. \n",
    "\n",
    "In scikit-learn, we can use a scaler to make centering and scaling happen independently on each feature by computing the relevant statistics on the samples *in the training set*. \n",
    "The mean and standard deviation will be stored to be used on the test data."
   ]
  },
  {
   "cell_type": "code",
   "execution_count": null,
   "metadata": {
    "collapsed": true
   },
   "outputs": [],
   "source": [
    "scaler = preprocessing.StandardScaler()\n",
    "#Xtr = scaler.fit_transform(Xtr)\n",
    "#Xte = scaler.transform(Xte)"
   ]
  },
  {
   "cell_type": "markdown",
   "metadata": {},
   "source": [
    "**Question** Rewrite the cross_validate method to include a scaling step."
   ]
  },
  {
   "cell_type": "code",
   "execution_count": null,
   "metadata": {
    "collapsed": true
   },
   "outputs": [],
   "source": [
    "def cross_validate_with_scaling(design_matrix, labels, classifier, cv_folds):\n",
    "    \"\"\" Perform a cross-validation and returns the predictions. \n",
    "    Use a scaler to scale the features to mean 0, standard deviation 1.\n",
    "    \n",
    "    Parameters:\n",
    "    -----------\n",
    "    design_matrix: (n_samples, n_features) np.array\n",
    "        Design matrix for the experiment.\n",
    "    labels: (n_samples, ) np.array\n",
    "        Vector of labels.\n",
    "    classifier:  sklearn classifier object\n",
    "        Classifier instance; must have the following methods:\n",
    "        - fit(X, y) to train the classifier on the data X, y\n",
    "        - predict_proba(X) to apply the trained classifier to the data X and return probability estimates \n",
    "    cv_folds: sklearn cross-validation object\n",
    "        Cross-validation iterator.\n",
    "        \n",
    "    Return:\n",
    "    -------\n",
    "    pred: (n_samples, ) np.array\n",
    "        Vectors of predictions (same order as labels).\n",
    "    \"\"\"\n",
    "    pred = np.zeros(labels.shape)\n",
    "    for tr, te in cv_folds:\n",
    "        # TODO        \n",
    "    return pred"
   ]
  },
  {
   "cell_type": "markdown",
   "metadata": {},
   "source": [
    "**Question** Now use the cross_validate_with_scaling method to cross-validate the logistic regression on our data."
   ]
  },
  {
   "cell_type": "code",
   "execution_count": null,
   "metadata": {
    "collapsed": false
   },
   "outputs": [],
   "source": []
  },
  {
   "cell_type": "markdown",
   "metadata": {},
   "source": [
    "**Question** Again, compare the AUROC and ROC curves with those obtained previously. What do you conclude?"
   ]
  },
  {
   "cell_type": "code",
   "execution_count": null,
   "metadata": {
    "collapsed": false
   },
   "outputs": [],
   "source": []
  },
  {
   "cell_type": "markdown",
   "metadata": {},
   "source": [
    "### 1.4 Sample normalization\n",
    "Normalization is the process of scaling individual samples to have unit norm. It can be useful when using machine learning algorithms that use the distance between samples."
   ]
  },
  {
   "cell_type": "code",
   "execution_count": null,
   "metadata": {
    "collapsed": true
   },
   "outputs": [],
   "source": [
    "X_norm = preprocessing.normalize(X)"
   ]
  },
  {
   "cell_type": "markdown",
   "metadata": {},
   "source": [
    "**Question** Repeat the previous analysis using the normalized data (and the same cross-validation folds), i.e. compare the cross-validated logistic regression on \n",
    "* the origal data\n",
    "* the normalized data\n",
    "* the normalized then scaled data\n",
    "* the normalized data, in a cross-validation with scaling procedure.\n",
    "What do you observe?"
   ]
  },
  {
   "cell_type": "code",
   "execution_count": null,
   "metadata": {
    "collapsed": false
   },
   "outputs": [],
   "source": []
  },
  {
   "cell_type": "markdown",
   "metadata": {},
   "source": [
    "## 2. Kaggle Project\n",
    "\n",
    "* Load the data\n",
    "* How many features do you have? How are they encoded?\n",
    "* Plot histograms to visualize the distribution of your features. Should you scale or normalize them?\n",
    "* Set up a cross-validation that you will use for all your evaluations. Notice there is a 'random_state' parameter to the cross-validation methods of scikit-learn, that you can use to ensure you always get the same splits. \n",
    "* [Optional] To go one step further in ensuring a fair comparison of your algorithms, you can use multiple repeats of the cross-validation procedure (using different splits each time), and report the mean & standard deviation over the repeats of the performance obtained. If you do this, you can report standard deviations in plots by using error bars.\n",
    "* Evaluate the performance of a linear regression on your data. Which evaluation metric are you using? See http://scikit-learn.org/stable/modules/model_evaluation.html#regression-metrics for help defining one.\n",
    "* Submit a linear regression predictor to the leaderboard."
   ]
  },
  {
   "cell_type": "code",
   "execution_count": null,
   "metadata": {
    "collapsed": true
   },
   "outputs": [],
   "source": []
  }
 ],
 "metadata": {
  "kernelspec": {
   "display_name": "Python [py27]",
   "language": "python",
   "name": "Python [py27]"
  },
  "language_info": {
   "codemirror_mode": {
    "name": "ipython",
    "version": 2
   },
   "file_extension": ".py",
   "mimetype": "text/x-python",
   "name": "python",
   "nbconvert_exporter": "python",
   "pygments_lexer": "ipython2",
   "version": "2.7.12"
  }
 },
 "nbformat": 4,
 "nbformat_minor": 0
}
